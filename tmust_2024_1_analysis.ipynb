{
 "cells": [
  {
   "cell_type": "code",
   "execution_count": 11,
   "id": "f4f737ee",
   "metadata": {},
   "outputs": [
    {
     "name": "stdout",
     "output_type": "stream",
     "text": [
      "Offering Memorandum \n",
      "$500,000,000 Class A Notes \n",
      "T-Mobile US Trust 2024-1\n",
      "Trust \n",
      "Finco Depositor I LLC\n",
      "                           Depositor \n",
      "T-Mobile Financial LLC \n",
      "Sponsor and Servicer \n",
      "The trust will issue:\n",
      "Initial Note Balance(1)\n",
      "Interest Rate \n",
      "Final \n",
      "Maturity Date \n",
      "Class A notes ..............  \n",
      "$ \n",
      "500,000,000 \n",
      "5.05%\n",
      "September 20, 2029 \n",
      "Class B notes ..............  \n",
      "$ \n",
      "30,670,000 \n",
      "5.23% \n",
      "September 20, 2029 \n",
      "Class C notes ..............  \n",
      "$ \n",
      "30,670,000 \n",
      "5.47% \n",
      "September 20, 2029 \n",
      "Total ...........................  \n",
      "$ \n",
      "561,340,000 \n",
      "__________________ \n",
      "(1) The Class B notes and the Class C notes are not being offered hereby and will initially be retained by Finco or an affiliate thereof.  The \n",
      "Class B notes and Class C notes will be entitled to certain payments as described herein. \n",
      "\n",
      "The notes will be backed by a revolving pool of receivables arising from equipment installment plan sales contracts (“EIP sales \n",
      "contracts”) originated by T-Mobile Financial LLC (“Finco”), certain other\n"
     ]
    }
   ],
   "source": [
    "import fitz  # PyMuPDF\n",
    "import pandas as pd\n",
    "\n",
    "# Corrected file path\n",
    "pdf_path = 'abs-tmust-ai/data/tmust-2024-1-final-offering-memorandum-dated-february-5-2024-as-printed.pdf'\n",
    "doc = fitz.open(pdf_path)\n",
    "\n",
    "# Extract all text\n",
    "full_text = \"\"\n",
    "for page in doc:\n",
    "    full_text += page.get_text()\n",
    "\n",
    "# Preview first part\n",
    "print(full_text[:1000])\n"
   ]
  },
  {
   "cell_type": "code",
   "execution_count": 12,
   "id": "0340dc40",
   "metadata": {},
   "outputs": [
    {
     "data": {
      "text/html": [
       "<div>\n",
       "<style scoped>\n",
       "    .dataframe tbody tr th:only-of-type {\n",
       "        vertical-align: middle;\n",
       "    }\n",
       "\n",
       "    .dataframe tbody tr th {\n",
       "        vertical-align: top;\n",
       "    }\n",
       "\n",
       "    .dataframe thead th {\n",
       "        text-align: right;\n",
       "    }\n",
       "</style>\n",
       "<table border=\"1\" class=\"dataframe\">\n",
       "  <thead>\n",
       "    <tr style=\"text-align: right;\">\n",
       "      <th></th>\n",
       "      <th>Class</th>\n",
       "      <th>Initial Balance ($)</th>\n",
       "      <th>Interest Rate (%)</th>\n",
       "      <th>Maturity Date</th>\n",
       "    </tr>\n",
       "  </thead>\n",
       "  <tbody>\n",
       "    <tr>\n",
       "      <th>0</th>\n",
       "      <td>A</td>\n",
       "      <td>500000000</td>\n",
       "      <td>5.05</td>\n",
       "      <td>Sep 20, 2029</td>\n",
       "    </tr>\n",
       "    <tr>\n",
       "      <th>1</th>\n",
       "      <td>B</td>\n",
       "      <td>30670000</td>\n",
       "      <td>5.23</td>\n",
       "      <td>Sep 20, 2029</td>\n",
       "    </tr>\n",
       "    <tr>\n",
       "      <th>2</th>\n",
       "      <td>C</td>\n",
       "      <td>30670000</td>\n",
       "      <td>5.47</td>\n",
       "      <td>Sep 20, 2029</td>\n",
       "    </tr>\n",
       "  </tbody>\n",
       "</table>\n",
       "</div>"
      ],
      "text/plain": [
       "  Class  Initial Balance ($)  Interest Rate (%) Maturity Date\n",
       "0     A            500000000               5.05  Sep 20, 2029\n",
       "1     B             30670000               5.23  Sep 20, 2029\n",
       "2     C             30670000               5.47  Sep 20, 2029"
      ]
     },
     "execution_count": 12,
     "metadata": {},
     "output_type": "execute_result"
    }
   ],
   "source": [
    "# Create DataFrame of TMUST 2024-1 tranche details\n",
    "data = {\n",
    "    'Class': ['A', 'B', 'C'],\n",
    "    'Initial Balance ($)': [500_000_000, 30_670_000, 30_670_000],\n",
    "    'Interest Rate (%)': [5.05, 5.23, 5.47],\n",
    "    'Maturity Date': ['Sep 20, 2029', 'Sep 20, 2029', 'Sep 20, 2029']\n",
    "}\n",
    "\n",
    "df = pd.DataFrame(data)\n",
    "df\n"
   ]
  },
  {
   "cell_type": "code",
   "execution_count": 13,
   "id": "11b81949",
   "metadata": {},
   "outputs": [],
   "source": [
    "df['Fitch Rating'] = ['AAA (sf)', 'AA (sf)', 'A (sf)']\n",
    "df[\"Moody’s Rating\"] = ['Aaa (sf)', 'Aa1 (sf)', 'Aa3 (sf)']\n"
   ]
  },
  {
   "cell_type": "code",
   "execution_count": 15,
   "id": "48b7a307",
   "metadata": {},
   "outputs": [],
   "source": [
    "df['Credit Enhancement (%)'] = [30.0, 20.0, 10.0]  # Example values – adjust based on memo if needed\n"
   ]
  },
  {
   "cell_type": "code",
   "execution_count": 16,
   "id": "0a507a62",
   "metadata": {},
   "outputs": [
    {
     "data": {
      "image/png": "[encoded data removed]",
      "text/plain": [
       "<Figure size 800x500 with 1 Axes>"
      ]
     },
     "metadata": {},
     "output_type": "display_data"
    }
   ],
   "source": [
    "import matplotlib.pyplot as plt\n",
    "\n",
    "plt.figure(figsize=(8, 5))\n",
    "plt.bar(df['Class'], df['Credit Enhancement (%)'], color='skyblue')\n",
    "plt.title('Credit Enhancement by Tranche')\n",
    "plt.xlabel('Tranche Class')\n",
    "plt.ylabel('Credit Enhancement (%)')\n",
    "plt.grid(axis='y')\n",
    "plt.show()\n"
   ]
  },
  {
   "cell_type": "code",
   "execution_count": 17,
   "id": "7645c085",
   "metadata": {},
   "outputs": [
    {
     "name": "stdout",
     "output_type": "stream",
     "text": [
      "- Class C has relatively low enhancement for its rating.\n",
      "- Class A appears well protected with 30%+ enhancement.\n"
     ]
    }
   ],
   "source": [
    "insights = []\n",
    "\n",
    "if df['Credit Enhancement (%)'].iloc[2] < 12 and df['Fitch Rating'].iloc[2] == 'A (sf)':\n",
    "    insights.append(\"Class C has relatively low enhancement for its rating.\")\n",
    "\n",
    "if df['Credit Enhancement (%)'].iloc[0] >= 30:\n",
    "    insights.append(\"Class A appears well protected with 30%+ enhancement.\")\n",
    "\n",
    "for i in insights:\n",
    "    print(\"- \" + i)\n"
   ]
  },
  {
   "cell_type": "code",
   "execution_count": 18,
   "id": "89405ed1",
   "metadata": {},
   "outputs": [
    {
     "ename": "SyntaxError",
     "evalue": "invalid syntax (721911826.py, line 1)",
     "output_type": "error",
     "traceback": [
      "\u001b[0;36m  Cell \u001b[0;32mIn[18], line 1\u001b[0;36m\u001b[0m\n\u001b[0;31m    i get: 500 : Internal Server Error\u001b[0m\n\u001b[0m      ^\u001b[0m\n\u001b[0;31mSyntaxError\u001b[0m\u001b[0;31m:\u001b[0m invalid syntax\n"
     ]
    }
   ],
   "source": [
    "i get: 500 : Internal Server Error\n",
    "    "
   ]
  },
  {
   "cell_type": "code",
   "execution_count": 19,
   "id": "ec78ac18",
   "metadata": {},
   "outputs": [
    {
     "name": "stdout",
     "output_type": "stream",
     "text": [
      "🧠 Auto-Generated Insights:\n",
      "\n",
      "- Class C appears to have a relatively low enhancement level for its rating.\n",
      "- Class C offers the highest interest rate among all classes, suggesting higher risk.\n",
      "- Class A appears well protected with a AAA rating and 30% credit enhancement.\n"
     ]
    }
   ],
   "source": [
    "print(\"🧠 Auto-Generated Insights:\\n\")\n",
    "\n",
    "if df['Credit Enhancement (%)'].iloc[2] < 15 and df['Fitch Rating'].iloc[2] == 'A (sf)':\n",
    "    print(\"- Class C appears to have a relatively low enhancement level for its rating.\")\n",
    "\n",
    "if df['Interest Rate (%)'].iloc[2] > df['Interest Rate (%)'].iloc[0]:\n",
    "    print(\"- Class C offers the highest interest rate among all classes, suggesting higher risk.\")\n",
    "\n",
    "if df['Fitch Rating'].iloc[0] == 'AAA (sf)' and df['Credit Enhancement (%)'].iloc[0] >= 30:\n",
    "    print(\"- Class A appears well protected with a AAA rating and 30% credit enhancement.\")\n"
   ]
  },
  {
   "cell_type": "code",
   "execution_count": 20,
   "id": "d8c788d3",
   "metadata": {},
   "outputs": [
    {
     "ename": "SyntaxError",
     "evalue": "invalid syntax (591747389.py, line 1)",
     "output_type": "error",
     "traceback": [
      "\u001b[0;36m  Cell \u001b[0;32mIn[20], line 1\u001b[0;36m\u001b[0m\n\u001b[0;31m    pip install streamlit\u001b[0m\n\u001b[0m        ^\u001b[0m\n\u001b[0;31mSyntaxError\u001b[0m\u001b[0;31m:\u001b[0m invalid syntax\n"
     ]
    }
   ],
   "source": [
    "pip install streamlit\n",
    "streamlit run app.py\n"
   ]
  },
  {
   "cell_type": "code",
   "execution_count": 27,
   "id": "4bc6e6c9",
   "metadata": {},
   "outputs": [
    {
     "name": "stderr",
     "output_type": "stream",
     "text": [
      "2025-05-12 15:21:26.029 WARNING streamlit.runtime.scriptrunner_utils.script_run_context: Thread 'MainThread': missing ScriptRunContext! This warning can be ignored when running in bare mode.\n",
      "2025-05-12 15:21:26.113 \n",
      "  \u001b[33m\u001b[1mWarning:\u001b[0m to view this Streamlit app on a browser, run it with the following\n",
      "  command:\n",
      "\n",
      "    streamlit run /Users/nickgojamanov/anaconda3/lib/python3.11/site-packages/ipykernel_launcher.py [ARGUMENTS]\n",
      "2025-05-12 15:21:26.114 Thread 'MainThread': missing ScriptRunContext! This warning can be ignored when running in bare mode.\n",
      "2025-05-12 15:21:26.114 Thread 'MainThread': missing ScriptRunContext! This warning can be ignored when running in bare mode.\n",
      "2025-05-12 15:21:26.114 Thread 'MainThread': missing ScriptRunContext! This warning can be ignored when running in bare mode.\n",
      "2025-05-12 15:21:26.115 Thread 'MainThread': missing ScriptRunContext! This warning can be ignored when running in bare mode.\n",
      "2025-05-12 15:21:26.115 Thread 'MainThread': missing ScriptRunContext! This warning can be ignored when running in bare mode.\n",
      "2025-05-12 15:21:26.115 Thread 'MainThread': missing ScriptRunContext! This warning can be ignored when running in bare mode.\n"
     ]
    }
   ],
   "source": [
    "import fitz  # PyMuPDF\n",
    "\n",
    "st.sidebar.title(\"Upload ABS Offering Memo\")\n",
    "uploaded_file = st.sidebar.file_uploader(\"Choose a PDF\", type=\"pdf\")\n",
    "\n",
    "if uploaded_file is not None:\n",
    "    with st.spinner(\"Extracting text from PDF...\"):\n",
    "        doc = fitz.open(stream=uploaded_file.read(), filetype=\"pdf\")\n",
    "        extracted_text = \"\"\n",
    "        for page in doc:\n",
    "            extracted_text += page.get_text()\n",
    "    \n",
    "    st.subheader(\"Extracted Document Preview\")\n",
    "    st.text_area(\"Raw Text\", extracted_text[:3000], height=300)\n"
   ]
  },
  {
   "cell_type": "code",
   "execution_count": 24,
   "id": "eba860c9",
   "metadata": {},
   "outputs": [],
   "source": [
    "import streamlit as st\n"
   ]
  },
  {
   "cell_type": "code",
   "execution_count": 25,
   "id": "7329c701",
   "metadata": {},
   "outputs": [],
   "source": [
    "import streamlit as st\n",
    "import pandas as pd\n",
    "import matplotlib.pyplot as plt\n",
    "import fitz  # PyMuPDF\n"
   ]
  },
  {
   "cell_type": "code",
   "execution_count": 26,
   "id": "e731a5d2",
   "metadata": {},
   "outputs": [
    {
     "ename": "SyntaxError",
     "evalue": "invalid syntax (3737097518.py, line 1)",
     "output_type": "error",
     "traceback": [
      "\u001b[0;36m  Cell \u001b[0;32mIn[26], line 1\u001b[0;36m\u001b[0m\n\u001b[0;31m    streamlit run app.py\u001b[0m\n\u001b[0m              ^\u001b[0m\n\u001b[0;31mSyntaxError\u001b[0m\u001b[0;31m:\u001b[0m invalid syntax\n"
     ]
    }
   ],
   "source": [
    "streamlit run app.py"
   ]
  },
  {
   "cell_type": "code",
   "execution_count": null,
   "id": "a952844a",
   "metadata": {},
   "outputs": [],
   "source": [
    "i got this error: NameError: name 'df_tranches' is not defined\n",
    "Traceback:\n",
    "File \"/Users/nickgojamanov/Desktop/abs-tmust-ai/app.py\", line 81, in <module>\n",
    "    if df_tranches is not None:\n",
    "       ^^^^^^^^^^^\n",
    "    "
   ]
  }
 ],
 "metadata": {
  "kernelspec": {
   "display_name": "Python 3 (ipykernel)",
   "language": "python",
   "name": "python3"
  },
  "language_info": {
   "codemirror_mode": {
    "name": "ipython",
    "version": 3
   },
   "file_extension": ".py",
   "mimetype": "text/x-python",
   "name": "python",
   "nbconvert_exporter": "python",
   "pygments_lexer": "ipython3",
   "version": "3.11.5"
  }
 },
 "nbformat": 4,
 "nbformat_minor": 5
}
